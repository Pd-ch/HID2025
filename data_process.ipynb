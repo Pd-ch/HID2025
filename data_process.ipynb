{
 "cells": [
  {
   "cell_type": "code",
   "execution_count": 2,
   "metadata": {},
   "outputs": [
    {
     "name": "stdout",
     "output_type": "stream",
     "text": [
      "读取到的数据: (123, 128, 128)\n"
     ]
    }
   ],
   "source": [
    "import os\n",
    "import pickle\n",
    "with open(r\"gallery/00000/0/e4e96e3c/e4e96e3c.pkl\",'rb') as f:\n",
    "    data = pickle.load(f)\n",
    "    print(f\"读取到的数据: {data.shape}\")"
   ]
  },
  {
   "cell_type": "code",
   "execution_count": 3,
   "metadata": {},
   "outputs": [
    {
     "name": "stdout",
     "output_type": "stream",
     "text": [
      "[91, 64, 44, 56, 53, 131, 115, 71, 97, 76, 88, 90, 85, 87, 74, 103, 76, 103, 80, 81, 142, 69, 70, 125, 73, 76, 71, 100, 153, 82, 107, 75, 80, 84, 89, 113, 87, 73, 96, 133, 81, 107, 100, 137, 73, 74, 114, 55, 90, 70, 82, 109, 58, 116, 69, 88, 69, 76, 104, 111, 134, 92, 87, 57, 118, 75, 82, 120, 92, 70, 77, 97, 61, 61, 74, 118, 135, 104, 83, 66, 65, 112, 76, 134, 77, 83, 147, 126, 79, 66, 127, 93, 102, 49, 73, 63, 112, 92, 69, 104, 129, 121, 71, 68, 60, 130, 82, 107, 73, 83, 55, 82, 109, 120, 119, 82, 125, 104, 77, 112, 135, 78, 80, 87, 66, 122, 101, 65, 126, 73, 83, 95, 78, 67, 99, 82, 131, 71, 110, 84, 89, 123, 71, 107, 75, 82, 74, 106, 71, 138, 66, 119, 53, 82, 65, 107, 85, 81, 151, 94, 60, 53, 64, 127, 123, 73, 110, 83, 64, 77, 73, 62, 30, 61, 80, 73, 76, 74, 83, 56, 84, 94, 137, 63, 74, 74, 92, 91, 132, 93, 75, 61, 37, 111, 74, 84, 63, 103, 104, 92, 82, 69, 94, 94, 31, 117, 122, 84, 91, 57, 74, 67, 81, 76, 56, 67, 123, 79, 74, 131, 73, 116, 70, 56, 80, 70, 128, 92, 58, 115, 94, 71, 92, 66, 88, 45, 113, 54, 91, 79, 69, 85, 77, 59, 118, 61, 85, 100, 86, 85, 38, 62, 66, 107, 104, 83, 139, 85, 70, 117, 79, 80, 87, 85, 75, 151, 81, 118, 122, 126, 97, 68, 85, 161, 119, 90, 91, 109, 90, 54, 75, 68, 96, 88, 93, 60, 74, 49, 90, 108, 87, 100, 125, 64, 77, 75, 109, 143, 125, 105, 97, 134, 98, 54, 93, 78, 102, 91, 74, 83, 69, 138, 89, 71, 89, 113, 87, 83, 68, 65, 92, 101, 59, 49, 80, 89, 113, 131, 124, 110, 74, 100, 106, 73, 121, 69, 65, 99, 99, 88, 108, 107, 76, 111, 85, 81, 83, 117, 119, 126, 111, 96, 58, 70, 102, 83, 94, 84, 123, 68, 101, 75, 109, 86, 50, 95, 68, 107, 117, 97, 84, 65, 73, 94, 142, 75, 105, 101, 76, 69, 72, 82, 146, 77, 135, 71, 86, 79, 66, 84, 84, 77, 54, 71, 84, 143, 109, 59, 84, 69, 76, 60, 110, 114, 69, 141, 52, 82, 85, 80, 82, 101, 125, 144, 66, 106, 89, 121, 82, 91, 95, 98, 95, 93, 71, 96, 106, 91, 129, 118, 65, 96, 84, 110, 88, 68, 118, 84, 59, 125, 96, 79, 105, 68, 58, 91, 98, 146, 108, 85, 78, 78, 99, 92, 76, 116, 69, 130, 96, 61, 94, 69, 125, 49, 77, 94, 71, 79, 81, 50, 81, 80, 118, 69, 81, 79, 111, 94, 70, 106, 135, 80, 89, 133, 58, 59, 90, 105, 123, 64, 53, 83, 123, 78, 55, 117, 77, 85, 80, 114, 97, 83, 93, 113, 112, 115, 107, 125, 110, 71, 76, 70, 73, 103, 120, 91, 89, 73, 63, 110, 76, 143, 43, 74, 88, 125, 102, 57, 151, 89, 82, 87, 87, 78, 66, 95, 91, 108, 108, 76, 77, 90, 100, 144, 96, 120, 109, 87, 123, 85, 96, 125, 80, 79, 101, 92, 92, 78, 64, 98, 75, 82, 73, 70, 123, 110, 78, 91, 81, 125, 26, 76, 66, 120, 125, 82, 161, 60, 96, 88, 88, 100, 81, 69, 121, 116, 140, 92, 62, 62, 88, 85, 116, 63, 84, 85, 91, 65, 58, 129, 75, 56, 100, 69, 117, 70, 101, 63, 80, 54, 64, 89, 95, 85, 92, 78, 53, 71, 79, 101, 64, 143, 62, 117, 80, 125, 65, 69, 97, 139, 123, 81, 160, 83, 75, 51, 65, 76, 64, 89, 91, 66, 69, 90, 84, 76, 87, 132, 90, 77, 77, 72, 89, 82, 107, 30, 77, 55, 94, 110, 133, 67, 67, 46, 66, 74, 91, 90, 110, 128, 92, 58, 98, 110, 73, 169, 74, 111, 39, 50, 97, 89, 127, 80, 75, 76, 107, 69, 86, 104, 99, 87, 73, 136, 112, 132, 84, 105, 57, 114, 70, 76, 77, 53, 95, 105, 102, 119, 116, 132, 76, 95, 55, 76, 68, 147, 87, 91, 65, 91, 110, 135, 110, 84, 77, 68, 112, 143, 73, 95, 149, 78, 73, 62, 109, 52, 82, 85, 88, 121, 67, 89, 113, 92, 81, 113, 89, 101, 41, 106, 63, 121, 88, 107, 76, 87, 66, 84, 84, 77, 48, 130, 80, 82, 75, 63, 122, 163, 58, 144, 117, 69, 106, 138, 94, 86, 65, 102, 110, 125, 104, 135, 68, 55, 63, 76, 113, 109, 131, 95, 60, 63, 97, 68, 97, 102, 121, 133, 100, 65, 84, 68, 84, 73, 86, 98, 84, 78, 39, 77, 67, 112, 141, 78, 137, 90, 90, 114, 78, 88, 89, 70, 100, 92, 137, 95, 60, 88, 128, 92, 74, 174, 77, 81, 131, 97, 107, 63, 70, 86, 100, 57, 69, 182, 81, 79, 98, 83, 71, 80, 65, 141, 53, 76, 78, 78, 105, 117, 75]\n"
     ]
    }
   ],
   "source": [
    "import os\n",
    "import pickle\n",
    "import numpy as np\n",
    "\n",
    "path = \"gallery\" #文件夹目录\n",
    "files= os.listdir(path) #得到文件夹下的所有文件名称\n",
    "\n",
    "s = []\n",
    "\n",
    "for root, dirs, files in os.walk(path):\n",
    "        for file in files:\n",
    "            # 输出完整文件路径\n",
    "            with open(os.path.join(root, file),'rb') as f:\n",
    "                a = pickle.load(f)\n",
    "                s.append(a.shape[0])\n",
    "\n",
    "print(s)"
   ]
  },
  {
   "cell_type": "code",
   "execution_count": 4,
   "metadata": {},
   "outputs": [
    {
     "name": "stderr",
     "output_type": "stream",
     "text": [
      "/home/pdch/miniconda3/envs/hid/lib/python3.11/site-packages/IPython/core/pylabtools.py:152: UserWarning: Glyph 20986 (\\N{CJK UNIFIED IDEOGRAPH-51FA}) missing from current font.\n",
      "  fig.canvas.print_figure(bytes_io, **kw)\n",
      "/home/pdch/miniconda3/envs/hid/lib/python3.11/site-packages/IPython/core/pylabtools.py:152: UserWarning: Glyph 29616 (\\N{CJK UNIFIED IDEOGRAPH-73B0}) missing from current font.\n",
      "  fig.canvas.print_figure(bytes_io, **kw)\n",
      "/home/pdch/miniconda3/envs/hid/lib/python3.11/site-packages/IPython/core/pylabtools.py:152: UserWarning: Glyph 27425 (\\N{CJK UNIFIED IDEOGRAPH-6B21}) missing from current font.\n",
      "  fig.canvas.print_figure(bytes_io, **kw)\n",
      "/home/pdch/miniconda3/envs/hid/lib/python3.11/site-packages/IPython/core/pylabtools.py:152: UserWarning: Glyph 25968 (\\N{CJK UNIFIED IDEOGRAPH-6570}) missing from current font.\n",
      "  fig.canvas.print_figure(bytes_io, **kw)\n",
      "/home/pdch/miniconda3/envs/hid/lib/python3.11/site-packages/IPython/core/pylabtools.py:152: UserWarning: Glyph 23383 (\\N{CJK UNIFIED IDEOGRAPH-5B57}) missing from current font.\n",
      "  fig.canvas.print_figure(bytes_io, **kw)\n",
      "/home/pdch/miniconda3/envs/hid/lib/python3.11/site-packages/IPython/core/pylabtools.py:152: UserWarning: Glyph 32479 (\\N{CJK UNIFIED IDEOGRAPH-7EDF}) missing from current font.\n",
      "  fig.canvas.print_figure(bytes_io, **kw)\n",
      "/home/pdch/miniconda3/envs/hid/lib/python3.11/site-packages/IPython/core/pylabtools.py:152: UserWarning: Glyph 35745 (\\N{CJK UNIFIED IDEOGRAPH-8BA1}) missing from current font.\n",
      "  fig.canvas.print_figure(bytes_io, **kw)\n"
     ]
    },
    {
     "data": {
      "image/png": "[encoded data removed]",
      "text/plain": [
       "<Figure size 640x480 with 1 Axes>"
      ]
     },
     "metadata": {},
     "output_type": "display_data"
    }
   ],
   "source": [
    "from collections import Counter\n",
    "import matplotlib.pyplot as plt\n",
    "\n",
    "# 使用Counter统计每个元素出现的次数\n",
    "counter = Counter(s)\n",
    "\n",
    "# 获取每个数字及其出现次数\n",
    "numbers = list(counter.keys())\n",
    "counts = list(counter.values())\n",
    "\n",
    "# 按照每个数字为横坐标画出图形\n",
    "plt.bar(numbers, counts)\n",
    "\n",
    "# 设置坐标轴标签\n",
    "plt.xlabel('数字')\n",
    "plt.ylabel('出现次数')\n",
    "\n",
    "# 设置标题\n",
    "plt.title('数字出现次数统计')\n",
    "\n",
    "# 显示图形\n",
    "plt.show()"
   ]
  },
  {
   "cell_type": "code",
   "execution_count": 23,
   "metadata": {},
   "outputs": [],
   "source": [
    "path = \"gallery\" #文件夹目录\n",
    "files= os.listdir(path) #得到文件夹下的所有文件名称\n",
    "data = np.zeros((859,200,128,128),dtype=np.uint8)\n",
    "temp = np.zeros((200,128,128),dtype=np.uint8)\n",
    "for root, dirs, files in os.walk(path):\n",
    "        for file in files:\n",
    "            # 输出完整文件路径\n",
    "            with open(os.path.join(root, file),'rb') as f:\n",
    "                a = pickle.load(f)\n",
    "                for i in range(a.shape[0]):\n",
    "                    temp[i] = a[i]\n",
    "                s = root[10:13]\n",
    "                num = int(s)\n",
    "                data[num] = temp\n",
    "                temp = np.zeros((200,128,128),dtype=np.uint8)\n",
    "\n",
    "np.save(\"data.npy\",data)"
   ]
  },
  {
   "cell_type": "code",
   "execution_count": null,
   "metadata": {},
   "outputs": [],
   "source": []
  }
 ],
 "metadata": {
  "kernelspec": {
   "display_name": "hid",
   "language": "python",
   "name": "python3"
  },
  "language_info": {
   "codemirror_mode": {
    "name": "ipython",
    "version": 3
   },
   "file_extension": ".py",
   "mimetype": "text/x-python",
   "name": "python",
   "nbconvert_exporter": "python",
   "pygments_lexer": "ipython3",
   "version": "3.11.9"
  }
 },
 "nbformat": 4,
 "nbformat_minor": 2
}
